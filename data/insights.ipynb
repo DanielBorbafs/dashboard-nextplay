{
 "cells": [
  {
   "cell_type": "code",
   "execution_count": 75,
   "metadata": {},
   "outputs": [],
   "source": [
    "import pandas as pd"
   ]
  },
  {
   "cell_type": "code",
   "execution_count": 76,
   "metadata": {},
   "outputs": [
    {
     "name": "stdout",
     "output_type": "stream",
     "text": [
      "   venda_id  cliente_id data_venda  valor_total\n",
      "0         1           8 2025-01-01      3800.00\n",
      "1         2          10 2025-01-03      3500.00\n",
      "2         3          24 2025-01-03       199.98\n",
      "3         4          32 2025-01-04       199.98\n",
      "4         5          57 2025-01-05       202.50\n"
     ]
    }
   ],
   "source": [
    "df = pd.read_excel('nextplay.xlsx', sheet_name = 'vendas')\n",
    "pd.set_option('display.width', 1000)\n",
    "print(df.head())"
   ]
  },
  {
   "cell_type": "code",
   "execution_count": 77,
   "metadata": {},
   "outputs": [],
   "source": [
    "df = df.set_index('venda_id')"
   ]
  },
  {
   "cell_type": "code",
   "execution_count": 78,
   "metadata": {},
   "outputs": [
    {
     "data": {
      "text/plain": [
       "dtype('float64')"
      ]
     },
     "execution_count": 78,
     "metadata": {},
     "output_type": "execute_result"
    }
   ],
   "source": [
    "df['valor_total'].dtype"
   ]
  },
  {
   "cell_type": "markdown",
   "metadata": {},
   "source": [
    "## Lucro total"
   ]
  },
  {
   "cell_type": "code",
   "execution_count": 79,
   "metadata": {},
   "outputs": [
    {
     "name": "stdout",
     "output_type": "stream",
     "text": [
      "O lucro bruto da empresa foi de R$ 208822.99\n"
     ]
    }
   ],
   "source": [
    "lucro_total = df['valor_total'].sum()\n",
    "print(f'O lucro bruto da empresa foi de R$ {lucro_total}') "
   ]
  },
  {
   "cell_type": "markdown",
   "metadata": {},
   "source": [
    "## Quantidade de vendas realizadas"
   ]
  },
  {
   "cell_type": "code",
   "execution_count": 80,
   "metadata": {},
   "outputs": [
    {
     "name": "stdout",
     "output_type": "stream",
     "text": [
      "A empresa fez um total de 99\n"
     ]
    }
   ],
   "source": [
    "total_vendas = len(df)\n",
    "print(f'A empresa fez um total de {total_vendas}')"
   ]
  },
  {
   "cell_type": "markdown",
   "metadata": {},
   "source": [
    "## Ticket médio"
   ]
  },
  {
   "cell_type": "code",
   "execution_count": 81,
   "metadata": {},
   "outputs": [
    {
     "name": "stdout",
     "output_type": "stream",
     "text": [
      "O valor do ticket médio é R$ 2109.32\n"
     ]
    }
   ],
   "source": [
    "ticket_medio = lucro_total / total_vendas\n",
    "print(f'O valor do ticket médio é R$ {ticket_medio.round(2)}')"
   ]
  },
  {
   "cell_type": "code",
   "execution_count": 82,
   "metadata": {},
   "outputs": [
    {
     "data": {
      "text/html": [
       "<div>\n",
       "<style scoped>\n",
       "    .dataframe tbody tr th:only-of-type {\n",
       "        vertical-align: middle;\n",
       "    }\n",
       "\n",
       "    .dataframe tbody tr th {\n",
       "        vertical-align: top;\n",
       "    }\n",
       "\n",
       "    .dataframe thead th {\n",
       "        text-align: right;\n",
       "    }\n",
       "</style>\n",
       "<table border=\"1\" class=\"dataframe\">\n",
       "  <thead>\n",
       "    <tr style=\"text-align: right;\">\n",
       "      <th></th>\n",
       "      <th>item_id</th>\n",
       "      <th>venda_id</th>\n",
       "      <th>produto_id</th>\n",
       "      <th>quantidade</th>\n",
       "      <th>preco_unitario</th>\n",
       "    </tr>\n",
       "  </thead>\n",
       "  <tbody>\n",
       "    <tr>\n",
       "      <th>0</th>\n",
       "      <td>1</td>\n",
       "      <td>1</td>\n",
       "      <td>2</td>\n",
       "      <td>1</td>\n",
       "      <td>3800.00</td>\n",
       "    </tr>\n",
       "    <tr>\n",
       "      <th>1</th>\n",
       "      <td>2</td>\n",
       "      <td>2</td>\n",
       "      <td>3</td>\n",
       "      <td>1</td>\n",
       "      <td>3500.00</td>\n",
       "    </tr>\n",
       "    <tr>\n",
       "      <th>2</th>\n",
       "      <td>3</td>\n",
       "      <td>3</td>\n",
       "      <td>23</td>\n",
       "      <td>2</td>\n",
       "      <td>99.99</td>\n",
       "    </tr>\n",
       "    <tr>\n",
       "      <th>3</th>\n",
       "      <td>4</td>\n",
       "      <td>4</td>\n",
       "      <td>24</td>\n",
       "      <td>2</td>\n",
       "      <td>99.99</td>\n",
       "    </tr>\n",
       "    <tr>\n",
       "      <th>4</th>\n",
       "      <td>5</td>\n",
       "      <td>5</td>\n",
       "      <td>14</td>\n",
       "      <td>1</td>\n",
       "      <td>202.50</td>\n",
       "    </tr>\n",
       "    <tr>\n",
       "      <th>...</th>\n",
       "      <td>...</td>\n",
       "      <td>...</td>\n",
       "      <td>...</td>\n",
       "      <td>...</td>\n",
       "      <td>...</td>\n",
       "    </tr>\n",
       "    <tr>\n",
       "      <th>247</th>\n",
       "      <td>248</td>\n",
       "      <td>95</td>\n",
       "      <td>41</td>\n",
       "      <td>1</td>\n",
       "      <td>81.00</td>\n",
       "    </tr>\n",
       "    <tr>\n",
       "      <th>248</th>\n",
       "      <td>249</td>\n",
       "      <td>96</td>\n",
       "      <td>39</td>\n",
       "      <td>1</td>\n",
       "      <td>94.50</td>\n",
       "    </tr>\n",
       "    <tr>\n",
       "      <th>249</th>\n",
       "      <td>250</td>\n",
       "      <td>97</td>\n",
       "      <td>39</td>\n",
       "      <td>1</td>\n",
       "      <td>94.50</td>\n",
       "    </tr>\n",
       "    <tr>\n",
       "      <th>250</th>\n",
       "      <td>251</td>\n",
       "      <td>98</td>\n",
       "      <td>39</td>\n",
       "      <td>1</td>\n",
       "      <td>94.50</td>\n",
       "    </tr>\n",
       "    <tr>\n",
       "      <th>251</th>\n",
       "      <td>252</td>\n",
       "      <td>99</td>\n",
       "      <td>39</td>\n",
       "      <td>1</td>\n",
       "      <td>94.50</td>\n",
       "    </tr>\n",
       "  </tbody>\n",
       "</table>\n",
       "<p>252 rows × 5 columns</p>\n",
       "</div>"
      ],
      "text/plain": [
       "     item_id  venda_id  produto_id  quantidade  preco_unitario\n",
       "0          1         1           2           1         3800.00\n",
       "1          2         2           3           1         3500.00\n",
       "2          3         3          23           2           99.99\n",
       "3          4         4          24           2           99.99\n",
       "4          5         5          14           1          202.50\n",
       "..       ...       ...         ...         ...             ...\n",
       "247      248        95          41           1           81.00\n",
       "248      249        96          39           1           94.50\n",
       "249      250        97          39           1           94.50\n",
       "250      251        98          39           1           94.50\n",
       "251      252        99          39           1           94.50\n",
       "\n",
       "[252 rows x 5 columns]"
      ]
     },
     "execution_count": 82,
     "metadata": {},
     "output_type": "execute_result"
    }
   ],
   "source": [
    "df_itens = pd.read_excel('nextplay.xlsx', sheet_name='itens_vendas')\n",
    "df_itens"
   ]
  },
  {
   "cell_type": "code",
   "execution_count": 83,
   "metadata": {},
   "outputs": [
    {
     "data": {
      "text/html": [
       "<div>\n",
       "<style scoped>\n",
       "    .dataframe tbody tr th:only-of-type {\n",
       "        vertical-align: middle;\n",
       "    }\n",
       "\n",
       "    .dataframe tbody tr th {\n",
       "        vertical-align: top;\n",
       "    }\n",
       "\n",
       "    .dataframe thead th {\n",
       "        text-align: right;\n",
       "    }\n",
       "</style>\n",
       "<table border=\"1\" class=\"dataframe\">\n",
       "  <thead>\n",
       "    <tr style=\"text-align: right;\">\n",
       "      <th></th>\n",
       "      <th>produto_id</th>\n",
       "      <th>nome</th>\n",
       "      <th>descricao</th>\n",
       "      <th>preco</th>\n",
       "      <th>qtd_estoque</th>\n",
       "      <th>categoria_id</th>\n",
       "    </tr>\n",
       "  </thead>\n",
       "  <tbody>\n",
       "    <tr>\n",
       "      <th>0</th>\n",
       "      <td>1</td>\n",
       "      <td>Notebook</td>\n",
       "      <td>Notebook de última geração</td>\n",
       "      <td>3500.0</td>\n",
       "      <td>0</td>\n",
       "      <td>1</td>\n",
       "    </tr>\n",
       "    <tr>\n",
       "      <th>1</th>\n",
       "      <td>2</td>\n",
       "      <td>Notebook Asus</td>\n",
       "      <td>Asus Machine v2</td>\n",
       "      <td>3800.0</td>\n",
       "      <td>0</td>\n",
       "      <td>1</td>\n",
       "    </tr>\n",
       "    <tr>\n",
       "      <th>2</th>\n",
       "      <td>3</td>\n",
       "      <td>Notebook Acer Nitro V15</td>\n",
       "      <td>Notebook gamer i5 + 8 gb ram + RTX 3050</td>\n",
       "      <td>4320.0</td>\n",
       "      <td>0</td>\n",
       "      <td>1</td>\n",
       "    </tr>\n",
       "    <tr>\n",
       "      <th>3</th>\n",
       "      <td>4</td>\n",
       "      <td>PS5 Versão slim</td>\n",
       "      <td>Sony ps5 videogame 120hz</td>\n",
       "      <td>3510.0</td>\n",
       "      <td>0</td>\n",
       "      <td>2</td>\n",
       "    </tr>\n",
       "    <tr>\n",
       "      <th>4</th>\n",
       "      <td>5</td>\n",
       "      <td>XBOX Series X</td>\n",
       "      <td>Microsoft videogame</td>\n",
       "      <td>4320.0</td>\n",
       "      <td>0</td>\n",
       "      <td>2</td>\n",
       "    </tr>\n",
       "  </tbody>\n",
       "</table>\n",
       "</div>"
      ],
      "text/plain": [
       "   produto_id                     nome                                descricao   preco  qtd_estoque  categoria_id\n",
       "0           1                 Notebook               Notebook de última geração  3500.0            0             1\n",
       "1           2            Notebook Asus                          Asus Machine v2  3800.0            0             1\n",
       "2           3  Notebook Acer Nitro V15  Notebook gamer i5 + 8 gb ram + RTX 3050  4320.0            0             1\n",
       "3           4          PS5 Versão slim                 Sony ps5 videogame 120hz  3510.0            0             2\n",
       "4           5            XBOX Series X                     Microsoft videogame   4320.0            0             2"
      ]
     },
     "execution_count": 83,
     "metadata": {},
     "output_type": "execute_result"
    }
   ],
   "source": [
    "df_produtos = pd.read_excel('nextplay.xlsx', sheet_name='produtos')\n",
    "df_produtos.head()"
   ]
  },
  {
   "cell_type": "code",
   "execution_count": 84,
   "metadata": {},
   "outputs": [
    {
     "name": "stdout",
     "output_type": "stream",
     "text": [
      "     venda_id  cliente_id data_venda  valor_total  item_id  produto_id  quantidade  preco_unitario\n",
      "0           1           8 2025-01-01      3800.00        1           2           1         3800.00\n",
      "1           2          10 2025-01-03      3500.00        2           3           1         3500.00\n",
      "2           3          24 2025-01-03       199.98        3          23           2           99.99\n",
      "3           4          32 2025-01-04       199.98        4          24           2           99.99\n",
      "4           5          57 2025-01-05       202.50        5          14           1          202.50\n",
      "..        ...         ...        ...          ...      ...         ...         ...             ...\n",
      "247        95          51 2025-03-25       175.50      248          41           1           81.00\n",
      "248        96           1 2025-03-26        94.50      249          39           1           94.50\n",
      "249        97          18 2025-03-27        94.50      250          39           1           94.50\n",
      "250        98          83 2025-03-28        94.50      251          39           1           94.50\n",
      "251        99          26 2025-03-29        94.50      252          39           1           94.50\n",
      "\n",
      "[252 rows x 8 columns]\n"
     ]
    }
   ],
   "source": [
    "## Unindo as tabela\n",
    "vendas = pd.merge(df, df_itens, on='venda_id', how='left')\n",
    "print(vendas)"
   ]
  },
  {
   "cell_type": "code",
   "execution_count": 85,
   "metadata": {},
   "outputs": [
    {
     "name": "stdout",
     "output_type": "stream",
     "text": [
      "   venda_id  cliente_id data_venda  valor_total  item_id  produto_id  quantidade  preco_unitario                     nome                                descricao    preco  qtd_estoque  categoria_id\n",
      "0         1           8 2025-01-01      3800.00        1           2           1         3800.00            Notebook Asus                          Asus Machine v2  3800.00          0.0           1.0\n",
      "1         2          10 2025-01-03      3500.00        2           3           1         3500.00  Notebook Acer Nitro V15  Notebook gamer i5 + 8 gb ram + RTX 3050  4320.00          0.0           1.0\n",
      "2         3          24 2025-01-03       199.98        3          23           2           99.99     Gift card PSN R$ 100          Gift card playstation 100 reais    99.99          0.0          11.0\n",
      "3         4          32 2025-01-04       199.98        4          24           2           99.99    Gift card XBOX R$ 100                 Gift card Xbox 100 reais    99.99          0.0          11.0\n",
      "4         5          57 2025-01-05       202.50        5          14           1          202.50   Mouse red dragon cobra            Mouse preto red dragon cobra    202.50          0.0          13.0\n"
     ]
    }
   ],
   "source": [
    "relatorio_de_vendas = pd.merge(vendas, df_produtos, on='produto_id', how='left')\n",
    "print(relatorio_de_vendas.head())"
   ]
  },
  {
   "cell_type": "code",
   "execution_count": 86,
   "metadata": {},
   "outputs": [
    {
     "data": {
      "text/html": [
       "<div>\n",
       "<style scoped>\n",
       "    .dataframe tbody tr th:only-of-type {\n",
       "        vertical-align: middle;\n",
       "    }\n",
       "\n",
       "    .dataframe tbody tr th {\n",
       "        vertical-align: top;\n",
       "    }\n",
       "\n",
       "    .dataframe thead th {\n",
       "        text-align: right;\n",
       "    }\n",
       "</style>\n",
       "<table border=\"1\" class=\"dataframe\">\n",
       "  <thead>\n",
       "    <tr style=\"text-align: right;\">\n",
       "      <th></th>\n",
       "      <th>venda_id</th>\n",
       "      <th>cliente_id</th>\n",
       "      <th>data_venda</th>\n",
       "      <th>valor_total</th>\n",
       "      <th>item_id</th>\n",
       "      <th>produto_id</th>\n",
       "      <th>quantidade</th>\n",
       "      <th>preco_unitario</th>\n",
       "      <th>nome</th>\n",
       "      <th>descricao</th>\n",
       "      <th>preco</th>\n",
       "      <th>categoria_id</th>\n",
       "    </tr>\n",
       "  </thead>\n",
       "  <tbody>\n",
       "    <tr>\n",
       "      <th>0</th>\n",
       "      <td>1</td>\n",
       "      <td>8</td>\n",
       "      <td>2025-01-01</td>\n",
       "      <td>3800.00</td>\n",
       "      <td>1</td>\n",
       "      <td>2</td>\n",
       "      <td>1</td>\n",
       "      <td>3800.00</td>\n",
       "      <td>Notebook Asus</td>\n",
       "      <td>Asus Machine v2</td>\n",
       "      <td>3800.00</td>\n",
       "      <td>1.0</td>\n",
       "    </tr>\n",
       "    <tr>\n",
       "      <th>1</th>\n",
       "      <td>2</td>\n",
       "      <td>10</td>\n",
       "      <td>2025-01-03</td>\n",
       "      <td>3500.00</td>\n",
       "      <td>2</td>\n",
       "      <td>3</td>\n",
       "      <td>1</td>\n",
       "      <td>3500.00</td>\n",
       "      <td>Notebook Acer Nitro V15</td>\n",
       "      <td>Notebook gamer i5 + 8 gb ram + RTX 3050</td>\n",
       "      <td>4320.00</td>\n",
       "      <td>1.0</td>\n",
       "    </tr>\n",
       "    <tr>\n",
       "      <th>2</th>\n",
       "      <td>3</td>\n",
       "      <td>24</td>\n",
       "      <td>2025-01-03</td>\n",
       "      <td>199.98</td>\n",
       "      <td>3</td>\n",
       "      <td>23</td>\n",
       "      <td>2</td>\n",
       "      <td>99.99</td>\n",
       "      <td>Gift card PSN R$ 100</td>\n",
       "      <td>Gift card playstation 100 reais</td>\n",
       "      <td>99.99</td>\n",
       "      <td>11.0</td>\n",
       "    </tr>\n",
       "    <tr>\n",
       "      <th>3</th>\n",
       "      <td>4</td>\n",
       "      <td>32</td>\n",
       "      <td>2025-01-04</td>\n",
       "      <td>199.98</td>\n",
       "      <td>4</td>\n",
       "      <td>24</td>\n",
       "      <td>2</td>\n",
       "      <td>99.99</td>\n",
       "      <td>Gift card XBOX R$ 100</td>\n",
       "      <td>Gift card Xbox 100 reais</td>\n",
       "      <td>99.99</td>\n",
       "      <td>11.0</td>\n",
       "    </tr>\n",
       "    <tr>\n",
       "      <th>4</th>\n",
       "      <td>5</td>\n",
       "      <td>57</td>\n",
       "      <td>2025-01-05</td>\n",
       "      <td>202.50</td>\n",
       "      <td>5</td>\n",
       "      <td>14</td>\n",
       "      <td>1</td>\n",
       "      <td>202.50</td>\n",
       "      <td>Mouse red dragon cobra</td>\n",
       "      <td>Mouse preto red dragon cobra</td>\n",
       "      <td>202.50</td>\n",
       "      <td>13.0</td>\n",
       "    </tr>\n",
       "    <tr>\n",
       "      <th>...</th>\n",
       "      <td>...</td>\n",
       "      <td>...</td>\n",
       "      <td>...</td>\n",
       "      <td>...</td>\n",
       "      <td>...</td>\n",
       "      <td>...</td>\n",
       "      <td>...</td>\n",
       "      <td>...</td>\n",
       "      <td>...</td>\n",
       "      <td>...</td>\n",
       "      <td>...</td>\n",
       "      <td>...</td>\n",
       "    </tr>\n",
       "    <tr>\n",
       "      <th>247</th>\n",
       "      <td>95</td>\n",
       "      <td>51</td>\n",
       "      <td>2025-03-25</td>\n",
       "      <td>175.50</td>\n",
       "      <td>248</td>\n",
       "      <td>41</td>\n",
       "      <td>1</td>\n",
       "      <td>81.00</td>\n",
       "      <td>Mouse pad Pro G com LED</td>\n",
       "      <td>Mouse pad grande com led</td>\n",
       "      <td>81.00</td>\n",
       "      <td>7.0</td>\n",
       "    </tr>\n",
       "    <tr>\n",
       "      <th>248</th>\n",
       "      <td>96</td>\n",
       "      <td>1</td>\n",
       "      <td>2025-03-26</td>\n",
       "      <td>94.50</td>\n",
       "      <td>249</td>\n",
       "      <td>39</td>\n",
       "      <td>1</td>\n",
       "      <td>94.50</td>\n",
       "      <td>Prisma suporte para headset</td>\n",
       "      <td>Acessório de Suporte</td>\n",
       "      <td>94.50</td>\n",
       "      <td>7.0</td>\n",
       "    </tr>\n",
       "    <tr>\n",
       "      <th>249</th>\n",
       "      <td>97</td>\n",
       "      <td>18</td>\n",
       "      <td>2025-03-27</td>\n",
       "      <td>94.50</td>\n",
       "      <td>250</td>\n",
       "      <td>39</td>\n",
       "      <td>1</td>\n",
       "      <td>94.50</td>\n",
       "      <td>Prisma suporte para headset</td>\n",
       "      <td>Acessório de Suporte</td>\n",
       "      <td>94.50</td>\n",
       "      <td>7.0</td>\n",
       "    </tr>\n",
       "    <tr>\n",
       "      <th>250</th>\n",
       "      <td>98</td>\n",
       "      <td>83</td>\n",
       "      <td>2025-03-28</td>\n",
       "      <td>94.50</td>\n",
       "      <td>251</td>\n",
       "      <td>39</td>\n",
       "      <td>1</td>\n",
       "      <td>94.50</td>\n",
       "      <td>Prisma suporte para headset</td>\n",
       "      <td>Acessório de Suporte</td>\n",
       "      <td>94.50</td>\n",
       "      <td>7.0</td>\n",
       "    </tr>\n",
       "    <tr>\n",
       "      <th>251</th>\n",
       "      <td>99</td>\n",
       "      <td>26</td>\n",
       "      <td>2025-03-29</td>\n",
       "      <td>94.50</td>\n",
       "      <td>252</td>\n",
       "      <td>39</td>\n",
       "      <td>1</td>\n",
       "      <td>94.50</td>\n",
       "      <td>Prisma suporte para headset</td>\n",
       "      <td>Acessório de Suporte</td>\n",
       "      <td>94.50</td>\n",
       "      <td>7.0</td>\n",
       "    </tr>\n",
       "  </tbody>\n",
       "</table>\n",
       "<p>252 rows × 12 columns</p>\n",
       "</div>"
      ],
      "text/plain": [
       "     venda_id  cliente_id data_venda  valor_total  item_id  produto_id  quantidade  preco_unitario                         nome                                descricao    preco  categoria_id\n",
       "0           1           8 2025-01-01      3800.00        1           2           1         3800.00                Notebook Asus                          Asus Machine v2  3800.00           1.0\n",
       "1           2          10 2025-01-03      3500.00        2           3           1         3500.00      Notebook Acer Nitro V15  Notebook gamer i5 + 8 gb ram + RTX 3050  4320.00           1.0\n",
       "2           3          24 2025-01-03       199.98        3          23           2           99.99         Gift card PSN R$ 100          Gift card playstation 100 reais    99.99          11.0\n",
       "3           4          32 2025-01-04       199.98        4          24           2           99.99        Gift card XBOX R$ 100                 Gift card Xbox 100 reais    99.99          11.0\n",
       "4           5          57 2025-01-05       202.50        5          14           1          202.50       Mouse red dragon cobra            Mouse preto red dragon cobra    202.50          13.0\n",
       "..        ...         ...        ...          ...      ...         ...         ...             ...                          ...                                      ...      ...           ...\n",
       "247        95          51 2025-03-25       175.50      248          41           1           81.00      Mouse pad Pro G com LED                 Mouse pad grande com led    81.00           7.0\n",
       "248        96           1 2025-03-26        94.50      249          39           1           94.50  Prisma suporte para headset                     Acessório de Suporte    94.50           7.0\n",
       "249        97          18 2025-03-27        94.50      250          39           1           94.50  Prisma suporte para headset                     Acessório de Suporte    94.50           7.0\n",
       "250        98          83 2025-03-28        94.50      251          39           1           94.50  Prisma suporte para headset                     Acessório de Suporte    94.50           7.0\n",
       "251        99          26 2025-03-29        94.50      252          39           1           94.50  Prisma suporte para headset                     Acessório de Suporte    94.50           7.0\n",
       "\n",
       "[252 rows x 12 columns]"
      ]
     },
     "execution_count": 86,
     "metadata": {},
     "output_type": "execute_result"
    }
   ],
   "source": [
    "relatorio_de_vendas = relatorio_de_vendas.drop(columns=['qtd_estoque'])\n",
    "relatorio_de_vendas"
   ]
  },
  {
   "cell_type": "code",
   "execution_count": 87,
   "metadata": {},
   "outputs": [],
   "source": [
    "relatorio_de_vendas['categoria_id'] = relatorio_de_vendas['categoria_id'].fillna(0).astype(int)\n"
   ]
  },
  {
   "cell_type": "code",
   "execution_count": 88,
   "metadata": {},
   "outputs": [],
   "source": [
    "relatorio_de_vendas = relatorio_de_vendas.set_index('venda_id')\n"
   ]
  },
  {
   "cell_type": "code",
   "execution_count": null,
   "metadata": {},
   "outputs": [
    {
     "ename": "TypeError",
     "evalue": "merge() missing 1 required positional argument: 'right'",
     "output_type": "error",
     "traceback": [
      "\u001b[1;31m---------------------------------------------------------------------------\u001b[0m",
      "\u001b[1;31mTypeError\u001b[0m                                 Traceback (most recent call last)",
      "Cell \u001b[1;32mIn[89], line 1\u001b[0m\n\u001b[1;32m----> 1\u001b[0m relatorio_de_vendas \u001b[38;5;241m=\u001b[39m \u001b[43mpd\u001b[49m\u001b[38;5;241;43m.\u001b[39;49m\u001b[43mmerge\u001b[49m\u001b[43m(\u001b[49m\u001b[43mrelatorio_de_vendas\u001b[49m\u001b[43m,\u001b[49m\u001b[43m \u001b[49m\u001b[43m)\u001b[49m\n",
      "\u001b[1;31mTypeError\u001b[0m: merge() missing 1 required positional argument: 'right'"
     ]
    }
   ],
   "source": [
    "df_categorias = pd.read_excel('nextplay.csv', sheet_name='categorias')"
   ]
  }
 ],
 "metadata": {
  "kernelspec": {
   "display_name": "Python 3",
   "language": "python",
   "name": "python3"
  },
  "language_info": {
   "codemirror_mode": {
    "name": "ipython",
    "version": 3
   },
   "file_extension": ".py",
   "mimetype": "text/x-python",
   "name": "python",
   "nbconvert_exporter": "python",
   "pygments_lexer": "ipython3",
   "version": "3.13.1"
  }
 },
 "nbformat": 4,
 "nbformat_minor": 2
}
